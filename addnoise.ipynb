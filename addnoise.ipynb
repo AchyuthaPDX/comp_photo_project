{
 "cells": [
  {
   "cell_type": "code",
   "execution_count": 11,
   "id": "28a35969",
   "metadata": {},
   "outputs": [],
   "source": [
    "import os\n",
    "import numpy as np\n",
    "import glob"
   ]
  },
  {
   "cell_type": "code",
   "execution_count": 12,
   "id": "46dea24a",
   "metadata": {},
   "outputs": [],
   "source": [
    "import cv2\n"
   ]
  },
  {
   "cell_type": "code",
   "execution_count": 17,
   "id": "176ce009",
   "metadata": {},
   "outputs": [],
   "source": [
    "def main():\n",
    "  \n",
    "  src_dir='./data/'\n",
    "  save_dir = './data/train'\n",
    "  src_dir_test='./data/test'\n",
    "  save_dir_test = './data/test'\n",
    "  \n",
    "  filepaths = glob.glob(src_dir + '/*.jpg')\n",
    "  filepaths_test = glob.glob(src_dir_test + '/*.jpg')\n",
    "  def sortKeyFunc(s):\n",
    "    return int(os.path.basename(s)[:-4])\n",
    "    \n",
    "  filepaths_test.sort(key=sortKeyFunc)\n",
    "  filepaths.sort(key=sortKeyFunc)\n",
    "  \n",
    "  \n",
    "  print(\"[*] Reading train files...\")  \n",
    "  \n",
    "  if not os.path.exists(save_dir):\n",
    "        os.mkdir(save_dir)\n",
    "        os.mkdir(save_dir_test)\n",
    "        os.mkdir('./data/train/noisy')\n",
    "        os.mkdir('./data/train/original')\n",
    "        os.mkdir('./data/test/noisy')\n",
    "        os.mkdir('./data/test/original')        \n",
    "\n",
    "  print(\"[*] Applying noise...\")\n",
    "\n",
    "  sig = np.linspace(0,50,len(filepaths))\n",
    "  np.random.shuffle(sig)\n",
    "  sig_test = np.linspace(0,50,len(filepaths_test))\n",
    "  np.random.shuffle(sig_test)\n",
    "\n",
    "  for i in range(len(filepaths)):\n",
    "        image = cv2.imread(filepaths[i])\n",
    "        image = cv2.resize(image,(180,180), interpolation = cv2.INTER_CUBIC)\n",
    "        row,col,ch = image.shape\n",
    "        mean = 0\n",
    "        sigma = sig[i]\n",
    "        gauss = np.random.normal(mean,sigma,(row,col,ch))\n",
    "        gauss = gauss.reshape(row,col,ch)\n",
    "        noisy = image + gauss\n",
    "        noisy = np.clip(noisy, 0, 255)\n",
    "        noisy = noisy.astype('uint8')\n",
    "        cv2.imwrite(os.path.join(save_dir, \"noisy/%04d.png\" %i), noisy)\n",
    "        cv2.imwrite(os.path.join(save_dir, \"original/%04d.png\" %i), image)\n",
    "        \n",
    "  for i in range(len(filepaths_test)):\n",
    "        image = cv2.imread(filepaths_test[i])\n",
    "        image = cv2.resize(image,(180,180), interpolation = cv2.INTER_CUBIC)\n",
    "        row,col,ch = image.shape\n",
    "        mean = 0\n",
    "        sigma = sig[i]\n",
    "        gauss = np.random.normal(mean,sigma,(row,col,ch))\n",
    "        gauss = gauss.reshape(row,col,ch)\n",
    "        noisy = image + gauss\n",
    "        noisy = np.clip(noisy, 0, 255)\n",
    "        noisy = noisy.astype('uint8')     \n",
    "        cv2.imwrite(os.path.join(save_dir_test, \"noisy/%d.png\" %i), noisy)\n",
    "        cv2.imwrite(os.path.join(save_dir_test, \"original/%d.png\" %i), image)\n",
    "  \n",
    "  print(\"[*] Noisy and original images saved\")"
   ]
  },
  {
   "cell_type": "code",
   "execution_count": 18,
   "id": "28925d31",
   "metadata": {},
   "outputs": [
    {
     "name": "stdout",
     "output_type": "stream",
     "text": [
      "[*] Reading train files...\n",
      "[*] Applying noise...\n",
      "[*] Noisy and original images saved\n"
     ]
    }
   ],
   "source": [
    "if __name__ == \"__main__\":\n",
    "    main()"
   ]
  },
  {
   "cell_type": "code",
   "execution_count": null,
   "id": "86dd49a9",
   "metadata": {},
   "outputs": [],
   "source": []
  }
 ],
 "metadata": {
  "kernelspec": {
   "display_name": "Python 3 (ipykernel)",
   "language": "python",
   "name": "python3"
  },
  "language_info": {
   "codemirror_mode": {
    "name": "ipython",
    "version": 3
   },
   "file_extension": ".py",
   "mimetype": "text/x-python",
   "name": "python",
   "nbconvert_exporter": "python",
   "pygments_lexer": "ipython3",
   "version": "3.9.7"
  }
 },
 "nbformat": 4,
 "nbformat_minor": 5
}
